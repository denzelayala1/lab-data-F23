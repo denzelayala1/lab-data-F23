{
 "cells": [
  {
   "cell_type": "code",
   "execution_count": null,
   "metadata": {},
   "outputs": [],
   "source": [
    "import scipy\n",
    "import numpy as np\n",
    "import pandas as pd\n",
    "from matplotlib import pyplot as plt \n",
    "\n",
    "figure_directory = '../report/figures/'\n"
   ]
  },
  {
   "cell_type": "code",
   "execution_count": null,
   "metadata": {},
   "outputs": [],
   "source": [
    "def resistance(Vsample):\n",
    "    Vgenerator = 5 #uV\n",
    "    resistor = 1000 # Ohms\n",
    "    return Vsample/Vgenerator*resistor  # Ohms\n",
    "\n",
    "def resistivity(res, f = 1 ):\n",
    "    thickness = 2/1000  # mm -> m\n",
    "    return (np.pi * thickness )/ np.log(2) * f * res\n",
    "\n",
    "\n",
    "\n"
   ]
  },
  {
   "cell_type": "markdown",
   "metadata": {},
   "source": [
    "## Voltage at Reference Frequencies"
   ]
  },
  {
   "cell_type": "markdown",
   "metadata": {},
   "source": [
    "TODO redo the error bars such that its not from a standard deviation and rather just the min and max we measured.\n",
    "\n",
    "discuss diode effect in resistance measurement at 300 k\n"
   ]
  },
  {
   "cell_type": "code",
   "execution_count": null,
   "metadata": {},
   "outputs": [],
   "source": [
    "lockinDF = pd.read_csv(\"LockInAmp.csv\")\n",
    "lockinDF.columns = ['freq','min','max','avg']\n",
    "\n",
    "min = lockinDF['avg'] - lockinDF['min']\n",
    "min = min.to_numpy()\n",
    "max = lockinDF['max'] - lockinDF['avg']\n",
    "max = max.to_numpy()\n",
    "y_err = np.array([min,max])\n",
    "\n",
    "plt.style.use('seaborn-v0_8')\n",
    "plt.rcParams['font.family'] = 'serif'\n",
    "\n",
    "ax = lockinDF.plot.scatter(x = 'freq', y = 'avg', title = 'Voltage at Reference Frequencies')\n",
    "(_, caps, _) = plt.errorbar(lockinDF['freq'], lockinDF['avg'], yerr= y_err, capsize = 5)\n",
    "for cap in caps:\n",
    "    cap.set_markeredgewidth(1)\n",
    "\n",
    "\n",
    "ax.xaxis.set_major_locator(plt.MultipleLocator(60))\n",
    "\n",
    "plt.xlabel('Frequency (Hz)')\n",
    "plt.ylabel('Voltage ($\\mu$V)')\n",
    "plt.tight_layout()\n",
    "ax.tick_params(axis='both', which='both', direction = 'in')\n",
    "\n",
    "\n",
    "plt.savefig(figure_directory + 'lockin_frequency_dependence.pgf')\n"
   ]
  },
  {
   "cell_type": "markdown",
   "metadata": {},
   "source": [
    "## Temperature Dependence"
   ]
  },
  {
   "cell_type": "code",
   "execution_count": null,
   "metadata": {},
   "outputs": [],
   "source": [
    "def temp_resistivity_plot(data, name, fname):\n",
    "    temperatureDF = pd.read_csv( data )\n",
    "\n",
    "    temperatureDF['resistance'] = resistance(temperatureDF['volt'])\n",
    "    temperatureDF['resistivity'] = resistivity(temperatureDF['resistance'])\n",
    "\n",
    "    min = temperatureDF['volt'] - temperatureDF['vmin']\n",
    "    min = resistivity( resistance( min.to_numpy() ) )\n",
    "    max = temperatureDF['vmax'] - temperatureDF['volt']\n",
    "    max = resistivity( resistance( max.to_numpy() ) )\n",
    "    y_err = np.array([min,max])\n",
    "\n",
    "    plt.style.use('seaborn-v0_8')\n",
    "    plt.rcParams['font.family'] = 'serif'\n",
    "\n",
    "    ax = temperatureDF.plot.scatter(x = 'temp', y = 'resistivity', \\\n",
    "                                title = 'Resistivity of ' + name) #uV\n",
    "\n",
    "    (_, caps, _) = plt.errorbar(temperatureDF['temp'], temperatureDF['resistivity'],\\\n",
    "                                yerr= y_err, capsize = 5,)\n",
    "    for cap in caps:\n",
    "        cap.set_markeredgewidth(1)\n",
    "\n",
    "\n",
    "    ax.xaxis.set_major_locator(plt.MultipleLocator(10))\n",
    "    ax.set_xlabel('Temperature (K)')\n",
    "    ax.set_ylabel(r'$\\rho$ ($\\Omega\\cdot$ m)')\n",
    "\n",
    "    fig = ax.get_figure()\n",
    "    return fig\n",
    "\n",
    "    #plt.savefig(figure_directory + fname +'temperatureDF_resistivity.pgf')"
   ]
  },
  {
   "cell_type": "markdown",
   "metadata": {},
   "source": [
    "#### $Bi_2Sr_2CaCu_2O_8$"
   ]
  },
  {
   "cell_type": "code",
   "execution_count": null,
   "metadata": {},
   "outputs": [],
   "source": [
    "data = 'volt_temp_BSCCO.csv'\n",
    "name = 'Bi$_2$Sr$_2$CaCu$_2$O$_8$'\n",
    "fname = 'bscco'\n",
    "\n",
    "test = temp_resistivity_plot(data,name, fname)\n",
    "test.savefig(figure_directory + 'test.pgf')\n"
   ]
  },
  {
   "cell_type": "code",
   "execution_count": null,
   "metadata": {},
   "outputs": [],
   "source": [
    "data = 'volt_temp_BSCCO.csv'\n",
    "name = 'Bi$_2$Sr$_2$CaCu$_2$O$_8$'\n",
    "fname = 'bscco'\n",
    "\n",
    "temperatureDF = pd.read_csv( data )\n",
    "\n",
    "temperatureDF['resistance'] = resistance(temperatureDF['volt'])\n",
    "temperatureDF['resistivity'] = resistivity(temperatureDF['resistance'])\n",
    "\n",
    "min = temperatureDF['volt'] - temperatureDF['vmin']\n",
    "min = resistivity( resistance( min.to_numpy() ) )\n",
    "max = temperatureDF['vmax'] - temperatureDF['volt']\n",
    "max = resistivity( resistance( max.to_numpy() ) )\n",
    "y_err = np.array([min,max])\n",
    "\n",
    "plt.style.use('seaborn-v0_8')\n",
    "plt.rcParams['font.family'] = 'serif'\n",
    "\n",
    "ax = temperatureDF.plot.scatter(x = 'temp', y = 'resistivity', \\\n",
    "                             title = 'Resistivity of ' + name) #uV\n",
    "\n",
    "(_, caps, _) = plt.errorbar(temperatureDF['temp'], temperatureDF['resistivity'],\\\n",
    "                             yerr= y_err, capsize = 5,)\n",
    "for cap in caps:\n",
    "    cap.set_markeredgewidth(1)\n",
    "\n",
    "\n",
    "ax.xaxis.set_major_locator(plt.MultipleLocator(10))\n",
    "plt.xlabel('Temperature (K)')\n",
    "plt.ylabel(r'$\\rho$ ($\\Omega\\cdot$ m)')\n",
    "\n",
    "plt.savefig(figure_directory + fname +'temperatureDF_resistivity.pgf')"
   ]
  },
  {
   "cell_type": "markdown",
   "metadata": {},
   "source": [
    "## Magnetic Field Dependence"
   ]
  },
  {
   "cell_type": "markdown",
   "metadata": {},
   "source": [
    "#### $Bi_2Sr_2CaCu_2O_8$"
   ]
  },
  {
   "cell_type": "code",
   "execution_count": null,
   "metadata": {},
   "outputs": [],
   "source": [
    "bscco_mag = pd.read_csv('mag.csv')\n",
    "\n",
    "bscco_mag['resistance0'] = resistance(bscco_mag['volt0'])\n",
    "bscco_mag['resistivity0'] = resistivity(bscco_mag['resistance0'])\n",
    "bscco_mag['resistance8'] = resistance(bscco_mag['volt8'])\n",
    "bscco_mag['resistivity8'] = resistivity(bscco_mag['resistance8'])\n",
    "\n",
    "y_err = np.full_like(bscco_mag['resistance0'], 0.05)\n",
    "y_err = resistivity(  resistance(y_err)  )\n",
    "plt.style.use('seaborn-v0_8')\n",
    "plt.rcParams['font.family'] = 'serif'\n",
    "\n",
    "\n",
    "fig , ax = plt.subplots()\n",
    "\n",
    "plt.scatter(x = bscco_mag['temp'], y = bscco_mag['resistivity0'], \\\n",
    "                             label = 'B = 0 mT') #uV\n",
    "plt.scatter(x = bscco_mag['temp'], y = bscco_mag['resistivity8'], \\\n",
    "                             label = 'B = 8 mT') #uV\n",
    "\n",
    "(_, caps0, _) = plt.errorbar(bscco_mag['temp'], bscco_mag['resistivity0'],\\\n",
    "                             yerr= y_err, capsize = 5,)\n",
    "for cap in caps0:\n",
    "    cap.set_markeredgewidth(1)\n",
    "\n",
    "(_, caps8, _) = plt.errorbar(bscco_mag['temp'], bscco_mag['resistivity8'],\\\n",
    "                             yerr= y_err, capsize = 5,)\n",
    "for cap in caps8:\n",
    "    cap.set_markeredgewidth(1)\n",
    "\n",
    "\n",
    "plt.legend()\n",
    "plt.title(r'Magnetic Field Dependent Resistvity of Bi$_2$Sr$_2$CaCu$_2$O$_8$')\n",
    "plt.xlabel('Temperature (K)')\n",
    "plt.ylabel(r'$\\rho$ ($\\Omega\\cdot$ m)')\n",
    "\n",
    "plt.savefig(figure_directory + 'bscco_mag_resistivity.pgf')"
   ]
  },
  {
   "cell_type": "code",
   "execution_count": null,
   "metadata": {},
   "outputs": [],
   "source": [
    "bs = pd.read_csv(\"mag.csv\")\n",
    "#print(magdf)\n",
    "\n",
    "#zeroPlot = magdf.plot.scatter(x = 'temp', y = 'resistivity0', title = 'Voltage at Reference Frequencies')\n",
    "#plt.subplot(magdf.plot.scatter(x = 'temp', y = 'resistivity8'))\n",
    "plt.scatter( x = magdf['temp'], y =magdf['res0'], label = \"B = 0 mT\")\n",
    "plt.scatter( x = magdf['temp'], y =magdf['res8'], label = \"B = 152 mT\")\n",
    "\n",
    "#magdf.plot.scatter(ax =[0,3])\n",
    "#magdf.plot.scatter(ax = [0,4])\n",
    "\n",
    "plt.title('Resistence vs Temperature')\n",
    "plt.xlabel('Temperature (K)')\n",
    "plt.ylabel('Resistence ($\\mu \\Omega$)')\n",
    "plt.legend()\n"
   ]
  },
  {
   "cell_type": "code",
   "execution_count": null,
   "metadata": {},
   "outputs": [],
   "source": [
    "magdf = pd.read_csv(\"mag.csv\")\n",
    "plt.scatter( x = magdf['temp'], y =magdf['resistivity0'], label = \"B = 0 mT\")\n",
    "plt.scatter( x = magdf['temp'], y =magdf['resistivity8'], label = \"B = 152 mT\")\n",
    "\n",
    "plt.title('Resistivity vs Temperature')\n",
    "plt.xlabel('Temperature (K)')\n",
    "plt.ylabel('Resistivity ($m\\cdot\\mu \\Omega$)')\n",
    "plt.legend()"
   ]
  },
  {
   "cell_type": "markdown",
   "metadata": {},
   "source": [
    "Why the offset? I believe part of it is that we didn't measure low enough temperatures. Besides the human error the applied magnetic field interrupts the formation of cooper pairs therefore we need to reach lower temperatures to truly be in the super conducting regime. This is effectively like shifting the curve to the left. "
   ]
  },
  {
   "cell_type": "code",
   "execution_count": null,
   "metadata": {},
   "outputs": [],
   "source": []
  }
 ],
 "metadata": {
  "kernelspec": {
   "display_name": "Python 3",
   "language": "python",
   "name": "python3"
  },
  "language_info": {
   "codemirror_mode": {
    "name": "ipython",
    "version": 3
   },
   "file_extension": ".py",
   "mimetype": "text/x-python",
   "name": "python",
   "nbconvert_exporter": "python",
   "pygments_lexer": "ipython3",
   "version": "3.10.12"
  },
  "orig_nbformat": 4
 },
 "nbformat": 4,
 "nbformat_minor": 2
}
